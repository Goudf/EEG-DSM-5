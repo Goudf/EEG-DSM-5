{
  "nbformat": 4,
  "nbformat_minor": 0,
  "metadata": {
    "colab": {
      "provenance": []
    },
    "kernelspec": {
      "name": "python3",
      "display_name": "Python 3"
    },
    "language_info": {
      "name": "python"
    },
    "widgets": {
      "application/vnd.jupyter.widget-state+json": {
        "357a419ae7e64159b7de746c3ccad22d": {
          "model_module": "@jupyter-widgets/controls",
          "model_name": "HTMLModel",
          "model_module_version": "1.5.0",
          "state": {
            "_dom_classes": [],
            "_model_module": "@jupyter-widgets/controls",
            "_model_module_version": "1.5.0",
            "_model_name": "HTMLModel",
            "_view_count": null,
            "_view_module": "@jupyter-widgets/controls",
            "_view_module_version": "1.5.0",
            "_view_name": "HTMLView",
            "description": "",
            "description_tooltip": null,
            "layout": "IPY_MODEL_671ea981c1484853966a78f0216c16c8",
            "placeholder": "​",
            "style": "IPY_MODEL_ce36a28575b547828a9118929a362bc4",
            "value": "<h3>🧠 DSM-5 Mental Health Test</h3> <p> Answer the questions below:</p> "
          }
        },
        "671ea981c1484853966a78f0216c16c8": {
          "model_module": "@jupyter-widgets/base",
          "model_name": "LayoutModel",
          "model_module_version": "1.2.0",
          "state": {
            "_model_module": "@jupyter-widgets/base",
            "_model_module_version": "1.2.0",
            "_model_name": "LayoutModel",
            "_view_count": null,
            "_view_module": "@jupyter-widgets/base",
            "_view_module_version": "1.2.0",
            "_view_name": "LayoutView",
            "align_content": null,
            "align_items": null,
            "align_self": null,
            "border": null,
            "bottom": null,
            "display": null,
            "flex": null,
            "flex_flow": null,
            "grid_area": null,
            "grid_auto_columns": null,
            "grid_auto_flow": null,
            "grid_auto_rows": null,
            "grid_column": null,
            "grid_gap": null,
            "grid_row": null,
            "grid_template_areas": null,
            "grid_template_columns": null,
            "grid_template_rows": null,
            "height": null,
            "justify_content": null,
            "justify_items": null,
            "left": null,
            "margin": null,
            "max_height": null,
            "max_width": null,
            "min_height": null,
            "min_width": null,
            "object_fit": null,
            "object_position": null,
            "order": null,
            "overflow": null,
            "overflow_x": null,
            "overflow_y": null,
            "padding": null,
            "right": null,
            "top": null,
            "visibility": null,
            "width": null
          }
        },
        "ce36a28575b547828a9118929a362bc4": {
          "model_module": "@jupyter-widgets/controls",
          "model_name": "DescriptionStyleModel",
          "model_module_version": "1.5.0",
          "state": {
            "_model_module": "@jupyter-widgets/controls",
            "_model_module_version": "1.5.0",
            "_model_name": "DescriptionStyleModel",
            "_view_count": null,
            "_view_module": "@jupyter-widgets/base",
            "_view_module_version": "1.2.0",
            "_view_name": "StyleView",
            "description_width": ""
          }
        },
        "de4c8991f5d04408a5ca94deb52468db": {
          "model_module": "@jupyter-widgets/controls",
          "model_name": "LabelModel",
          "model_module_version": "1.5.0",
          "state": {
            "_dom_classes": [],
            "_model_module": "@jupyter-widgets/controls",
            "_model_module_version": "1.5.0",
            "_model_name": "LabelModel",
            "_view_count": null,
            "_view_module": "@jupyter-widgets/controls",
            "_view_module_version": "1.5.0",
            "_view_name": "LabelView",
            "description": "",
            "description_tooltip": null,
            "layout": "IPY_MODEL_2781101cc55c4d03ad9f6eb7286a04d9",
            "placeholder": "​",
            "style": "IPY_MODEL_34fd831c9feb46fcaf6c797a1383c99c",
            "value": "Results:"
          }
        },
        "2781101cc55c4d03ad9f6eb7286a04d9": {
          "model_module": "@jupyter-widgets/base",
          "model_name": "LayoutModel",
          "model_module_version": "1.2.0",
          "state": {
            "_model_module": "@jupyter-widgets/base",
            "_model_module_version": "1.2.0",
            "_model_name": "LayoutModel",
            "_view_count": null,
            "_view_module": "@jupyter-widgets/base",
            "_view_module_version": "1.2.0",
            "_view_name": "LayoutView",
            "align_content": null,
            "align_items": null,
            "align_self": null,
            "border": null,
            "bottom": null,
            "display": null,
            "flex": null,
            "flex_flow": null,
            "grid_area": null,
            "grid_auto_columns": null,
            "grid_auto_flow": null,
            "grid_auto_rows": null,
            "grid_column": null,
            "grid_gap": null,
            "grid_row": null,
            "grid_template_areas": null,
            "grid_template_columns": null,
            "grid_template_rows": null,
            "height": null,
            "justify_content": null,
            "justify_items": null,
            "left": null,
            "margin": null,
            "max_height": null,
            "max_width": null,
            "min_height": null,
            "min_width": null,
            "object_fit": null,
            "object_position": null,
            "order": null,
            "overflow": null,
            "overflow_x": null,
            "overflow_y": null,
            "padding": null,
            "right": null,
            "top": null,
            "visibility": null,
            "width": null
          }
        },
        "34fd831c9feb46fcaf6c797a1383c99c": {
          "model_module": "@jupyter-widgets/controls",
          "model_name": "DescriptionStyleModel",
          "model_module_version": "1.5.0",
          "state": {
            "_model_module": "@jupyter-widgets/controls",
            "_model_module_version": "1.5.0",
            "_model_name": "DescriptionStyleModel",
            "_view_count": null,
            "_view_module": "@jupyter-widgets/base",
            "_view_module_version": "1.2.0",
            "_view_name": "StyleView",
            "description_width": ""
          }
        },
        "0b25a3d1cf5e45c0ac4c00a478a6dea6": {
          "model_module": "@jupyter-widgets/controls",
          "model_name": "RadioButtonsModel",
          "model_module_version": "1.5.0",
          "state": {
            "_dom_classes": [],
            "_model_module": "@jupyter-widgets/controls",
            "_model_module_version": "1.5.0",
            "_model_name": "RadioButtonsModel",
            "_options_labels": [
              "Yes",
              "No"
            ],
            "_view_count": null,
            "_view_module": "@jupyter-widgets/controls",
            "_view_module_version": "1.5.0",
            "_view_name": "RadioButtonsView",
            "description": "Answer:",
            "description_tooltip": null,
            "disabled": false,
            "index": 0,
            "layout": "IPY_MODEL_390e5dde7135403aa32582888a1b189e",
            "style": "IPY_MODEL_dc41d9118c914154a4f967d3cbaec8f5"
          }
        },
        "390e5dde7135403aa32582888a1b189e": {
          "model_module": "@jupyter-widgets/base",
          "model_name": "LayoutModel",
          "model_module_version": "1.2.0",
          "state": {
            "_model_module": "@jupyter-widgets/base",
            "_model_module_version": "1.2.0",
            "_model_name": "LayoutModel",
            "_view_count": null,
            "_view_module": "@jupyter-widgets/base",
            "_view_module_version": "1.2.0",
            "_view_name": "LayoutView",
            "align_content": null,
            "align_items": null,
            "align_self": null,
            "border": null,
            "bottom": null,
            "display": "none",
            "flex": null,
            "flex_flow": null,
            "grid_area": null,
            "grid_auto_columns": null,
            "grid_auto_flow": null,
            "grid_auto_rows": null,
            "grid_column": null,
            "grid_gap": null,
            "grid_row": null,
            "grid_template_areas": null,
            "grid_template_columns": null,
            "grid_template_rows": null,
            "height": null,
            "justify_content": null,
            "justify_items": null,
            "left": null,
            "margin": null,
            "max_height": null,
            "max_width": null,
            "min_height": null,
            "min_width": null,
            "object_fit": null,
            "object_position": null,
            "order": null,
            "overflow": null,
            "overflow_x": null,
            "overflow_y": null,
            "padding": null,
            "right": null,
            "top": null,
            "visibility": null,
            "width": null
          }
        },
        "dc41d9118c914154a4f967d3cbaec8f5": {
          "model_module": "@jupyter-widgets/controls",
          "model_name": "DescriptionStyleModel",
          "model_module_version": "1.5.0",
          "state": {
            "_model_module": "@jupyter-widgets/controls",
            "_model_module_version": "1.5.0",
            "_model_name": "DescriptionStyleModel",
            "_view_count": null,
            "_view_module": "@jupyter-widgets/base",
            "_view_module_version": "1.2.0",
            "_view_name": "StyleView",
            "description_width": ""
          }
        },
        "c339bb04cb1a4186819443a971e84c06": {
          "model_module": "@jupyter-widgets/controls",
          "model_name": "HTMLModel",
          "model_module_version": "1.5.0",
          "state": {
            "_dom_classes": [],
            "_model_module": "@jupyter-widgets/controls",
            "_model_module_version": "1.5.0",
            "_model_name": "HTMLModel",
            "_view_count": null,
            "_view_module": "@jupyter-widgets/controls",
            "_view_module_version": "1.5.0",
            "_view_name": "HTMLView",
            "description": "",
            "description_tooltip": null,
            "layout": "IPY_MODEL_c659311f66af465d9b81275a7ccd6f33",
            "placeholder": "​",
            "style": "IPY_MODEL_c7865fa140b941999feb69d952d421f5",
            "value": "<b>Bipolar disorder:</b> Yes ✅ (Probability: 1.00)<br><b>Schizophrenia:</b> Yes ✅ (Probability: 1.00)<br><b>Depression:</b> Yes ✅ (Probability: 1.00)<br><b>Anxiety disorder:</b> Yes ✅ (Probability: 1.00)<br><b>PTSD:</b> Yes ✅ (Probability: 0.92)"
          }
        },
        "c659311f66af465d9b81275a7ccd6f33": {
          "model_module": "@jupyter-widgets/base",
          "model_name": "LayoutModel",
          "model_module_version": "1.2.0",
          "state": {
            "_model_module": "@jupyter-widgets/base",
            "_model_module_version": "1.2.0",
            "_model_name": "LayoutModel",
            "_view_count": null,
            "_view_module": "@jupyter-widgets/base",
            "_view_module_version": "1.2.0",
            "_view_name": "LayoutView",
            "align_content": null,
            "align_items": null,
            "align_self": null,
            "border": null,
            "bottom": null,
            "display": null,
            "flex": null,
            "flex_flow": null,
            "grid_area": null,
            "grid_auto_columns": null,
            "grid_auto_flow": null,
            "grid_auto_rows": null,
            "grid_column": null,
            "grid_gap": null,
            "grid_row": null,
            "grid_template_areas": null,
            "grid_template_columns": null,
            "grid_template_rows": null,
            "height": null,
            "justify_content": null,
            "justify_items": null,
            "left": null,
            "margin": null,
            "max_height": null,
            "max_width": null,
            "min_height": null,
            "min_width": null,
            "object_fit": null,
            "object_position": null,
            "order": null,
            "overflow": null,
            "overflow_x": null,
            "overflow_y": null,
            "padding": null,
            "right": null,
            "top": null,
            "visibility": null,
            "width": null
          }
        },
        "c7865fa140b941999feb69d952d421f5": {
          "model_module": "@jupyter-widgets/controls",
          "model_name": "DescriptionStyleModel",
          "model_module_version": "1.5.0",
          "state": {
            "_model_module": "@jupyter-widgets/controls",
            "_model_module_version": "1.5.0",
            "_model_name": "DescriptionStyleModel",
            "_view_count": null,
            "_view_module": "@jupyter-widgets/base",
            "_view_module_version": "1.2.0",
            "_view_name": "StyleView",
            "description_width": ""
          }
        }
      }
    }
  },
  "cells": [
    {
      "cell_type": "code",
      "source": [
        "!pip install -q tensorflow scikit-learn pandas matplotlib ipywidgets\n",
        "\n",
        "import pandas as pd\n",
        "import numpy as np\n",
        "from sklearn.model_selection import train_test_split\n",
        "from sklearn.preprocessing import StandardScaler\n",
        "from sklearn.metrics import classification_report\n",
        "from tensorflow.keras.models import Sequential\n",
        "from tensorflow.keras.layers import Dense, Dropout\n",
        "import ipywidgets as widgets\n",
        "from IPython.display import display, clear_output\n",
        "\n",
        "df = pd.read_csv('Mentalillness.csv')#Φόρτωση δεδομένων\n",
        "df_clean = df.drop(columns=[\"ID\", \"Intrusive memories or flashback\", \"Sleep disturbance.1\"], errors=\"ignore\")\n",
        "#Στήλες στόχοι\n",
        "target_columns = ['Bipolar disorder', 'Schizophrenia', 'Depression', 'Anxiety disorder', 'PTSD']\n",
        "X = df_clean.drop(columns=target_columns)\n",
        "y = df_clean[target_columns]\n",
        "\n",
        "#Κανονικοποίηση\n",
        "scaler = StandardScaler()\n",
        "X_scaled = scaler.fit_transform(X)\n",
        "#Split\n",
        "X_train, X_test, y_train, y_test = train_test_split(X_scaled, y, test_size=0.2, random_state=42)\n",
        "#Μοντέλο\n",
        "model = Sequential([\n",
        "    Dense(128, input_dim=X.shape[1], activation='relu'),\n",
        "    Dropout(0.4),\n",
        "    Dense(64, activation='relu'),\n",
        "    Dropout(0.3),\n",
        "    Dense(len(target_columns), activation='sigmoid')\n",
        "])\n",
        "model.compile(loss='binary_crossentropy', optimizer='adam', metrics=['accuracy'])\n",
        "#Εκπαίδευση μοντέλου\n",
        "history = model.fit(X_train, y_train, epochs=50, batch_size=32, validation_data=(X_test, y_test), verbose=0)\n",
        "#Αναφορά απόδοσης\n",
        "preds = model.predict(X_test)\n",
        "preds_binary = (preds > 0.5).astype(int)\n",
        "print(\"\\n Report By Deviation:\")\n",
        "print(classification_report(y_test, preds_binary, target_names=target_columns))\n",
        "\n",
        "#Τέστ στον χρήστη\n",
        "questions = list(X.columns)\n",
        "answers = []\n",
        "index = 0\n",
        "question_label = widgets.Label()\n",
        "radio_buttons = widgets.RadioButtons(options=['Yes', 'No'], description='Answer:', value=None)\n",
        "result_output = widgets.HTML()\n",
        "\n",
        "intro_label = widgets.HTML(\"<h3>🧠 DSM-5 Mental Health Test</h3> <p> Answer the questions below:</p> 🧠\")\n",
        "\n",
        "def on_radio_change(change):\n",
        "    global index, answers\n",
        "    if change['new'] is not None:\n",
        "        answers.append(1 if change['new'] == 'Yes' else 0)\n",
        "        if index + 1 < len(questions):\n",
        "            index += 1\n",
        "            question_label.value = questions[index]\n",
        "            radio_buttons.value = None\n",
        "        else:\n",
        "            show_results()\n",
        "\n",
        "def show_results():\n",
        "    global answers\n",
        "    if len(answers) < X.shape[1]:\n",
        "        answers.extend([0] * (X.shape[1] - len(answers)))\n",
        "    user_input_scaled = scaler.transform([answers])\n",
        "    pred = model.predict(user_input_scaled)[0]\n",
        "    results = [\n",
        "        f\"<b>{target_columns[i]}:</b> {'Yes ✅' if pred[i] > 0.5 else 'No ❌'} (Probability: {pred[i]:.2f})\"\n",
        "        for i in range(len(target_columns))]\n",
        "    result_output.value = '<br>'.join(results)\n",
        "    question_label.value = \"Results:\"\n",
        "    radio_buttons.layout.display = 'none'\n",
        "\n",
        "radio_buttons.observe(on_radio_change, names='value')\n",
        "\n",
        "# Εμφάνιση αρχικής εισαγωγής και πρώτης ερώτησης\n",
        "question_label.value = questions[index]\n",
        "display(intro_label, question_label, radio_buttons, result_output)"
      ],
      "metadata": {
        "colab": {
          "base_uri": "https://localhost:8080/",
          "height": 765,
          "referenced_widgets": [
            "357a419ae7e64159b7de746c3ccad22d",
            "671ea981c1484853966a78f0216c16c8",
            "ce36a28575b547828a9118929a362bc4",
            "de4c8991f5d04408a5ca94deb52468db",
            "2781101cc55c4d03ad9f6eb7286a04d9",
            "34fd831c9feb46fcaf6c797a1383c99c",
            "0b25a3d1cf5e45c0ac4c00a478a6dea6",
            "390e5dde7135403aa32582888a1b189e",
            "dc41d9118c914154a4f967d3cbaec8f5",
            "c339bb04cb1a4186819443a971e84c06",
            "c659311f66af465d9b81275a7ccd6f33",
            "c7865fa140b941999feb69d952d421f5"
          ]
        },
        "id": "53LFNr6GouuG",
        "outputId": "0ffbcd38-cbf4-4286-e726-9090500a60ff"
      },
      "execution_count": null,
      "outputs": [
        {
          "output_type": "stream",
          "name": "stderr",
          "text": [
            "/usr/local/lib/python3.11/dist-packages/keras/src/layers/core/dense.py:87: UserWarning: Do not pass an `input_shape`/`input_dim` argument to a layer. When using Sequential models, prefer using an `Input(shape)` object as the first layer in the model instead.\n",
            "  super().__init__(activity_regularizer=activity_regularizer, **kwargs)\n"
          ]
        },
        {
          "output_type": "stream",
          "name": "stdout",
          "text": [
            "\u001b[1m24/24\u001b[0m \u001b[32m━━━━━━━━━━━━━━━━━━━━\u001b[0m\u001b[37m\u001b[0m \u001b[1m0s\u001b[0m 4ms/step\n",
            "\n",
            " Report By Deviation:\n",
            "                  precision    recall  f1-score   support\n",
            "\n",
            "Bipolar disorder       1.00      1.00      1.00       586\n",
            "   Schizophrenia       1.00      1.00      1.00       640\n",
            "      Depression       1.00      1.00      1.00       361\n",
            "Anxiety disorder       1.00      1.00      1.00       338\n",
            "            PTSD       0.82      0.59      0.69        39\n",
            "\n",
            "       micro avg       1.00      0.99      0.99      1964\n",
            "       macro avg       0.96      0.92      0.94      1964\n",
            "    weighted avg       0.99      0.99      0.99      1964\n",
            "     samples avg       0.99      0.99      0.99      1964\n",
            "\n"
          ]
        },
        {
          "output_type": "stream",
          "name": "stderr",
          "text": [
            "/usr/local/lib/python3.11/dist-packages/sklearn/metrics/_classification.py:1565: UndefinedMetricWarning: Precision is ill-defined and being set to 0.0 in samples with no predicted labels. Use `zero_division` parameter to control this behavior.\n",
            "  _warn_prf(average, modifier, f\"{metric.capitalize()} is\", len(result))\n",
            "/usr/local/lib/python3.11/dist-packages/sklearn/metrics/_classification.py:1565: UndefinedMetricWarning: Recall is ill-defined and being set to 0.0 in samples with no true labels. Use `zero_division` parameter to control this behavior.\n",
            "  _warn_prf(average, modifier, f\"{metric.capitalize()} is\", len(result))\n",
            "/usr/local/lib/python3.11/dist-packages/sklearn/metrics/_classification.py:1565: UndefinedMetricWarning: F-score is ill-defined and being set to 0.0 in samples with no true nor predicted labels. Use `zero_division` parameter to control this behavior.\n",
            "  _warn_prf(average, modifier, f\"{metric.capitalize()} is\", len(result))\n"
          ]
        },
        {
          "output_type": "display_data",
          "data": {
            "text/plain": [
              "HTML(value='<h3>🧠 DSM-5 Mental Health Test</h3> <p> Answer the questions below:</p> ')"
            ],
            "application/vnd.jupyter.widget-view+json": {
              "version_major": 2,
              "version_minor": 0,
              "model_id": "357a419ae7e64159b7de746c3ccad22d"
            }
          },
          "metadata": {}
        },
        {
          "output_type": "display_data",
          "data": {
            "text/plain": [
              "Label(value='Inflated self-esteem')"
            ],
            "application/vnd.jupyter.widget-view+json": {
              "version_major": 2,
              "version_minor": 0,
              "model_id": "de4c8991f5d04408a5ca94deb52468db"
            }
          },
          "metadata": {}
        },
        {
          "output_type": "display_data",
          "data": {
            "text/plain": [
              "RadioButtons(description='Answer:', options=('Yes', 'No'), value=None)"
            ],
            "application/vnd.jupyter.widget-view+json": {
              "version_major": 2,
              "version_minor": 0,
              "model_id": "0b25a3d1cf5e45c0ac4c00a478a6dea6"
            }
          },
          "metadata": {}
        },
        {
          "output_type": "display_data",
          "data": {
            "text/plain": [
              "HTML(value='')"
            ],
            "application/vnd.jupyter.widget-view+json": {
              "version_major": 2,
              "version_minor": 0,
              "model_id": "c339bb04cb1a4186819443a971e84c06"
            }
          },
          "metadata": {}
        },
        {
          "output_type": "stream",
          "name": "stdout",
          "text": [
            "\u001b[1m1/1\u001b[0m \u001b[32m━━━━━━━━━━━━━━━━━━━━\u001b[0m\u001b[37m\u001b[0m \u001b[1m0s\u001b[0m 49ms/step\n"
          ]
        },
        {
          "output_type": "stream",
          "name": "stderr",
          "text": [
            "/usr/local/lib/python3.11/dist-packages/sklearn/utils/validation.py:2739: UserWarning: X does not have valid feature names, but StandardScaler was fitted with feature names\n",
            "  warnings.warn(\n"
          ]
        }
      ]
    }
  ]
}